{
 "cells": [
  {
   "cell_type": "markdown",
   "metadata": {},
   "source": [
    "# Data Description"
   ]
  },
  {
   "cell_type": "markdown",
   "metadata": {},
   "source": [
    "1. The data was collected by Seattle Government. The data is classified according to the \"SEVERITYCODE\".\n",
    "2. The data consists of 194674 rows and 38 columns.\n",
    "3. We can further explore the data using other columns data which can will be significant in further classifying the accident cause.\n",
    "4. We could further classify the data for example using columns mentioned below:\n",
    "##### \"WEATHER\"\n",
    "'Overcast', 'Raining', 'Clear', nan, 'Unknown', 'Other', 'Snowing', 'Fog/Smog/Smoke', 'Sleet/Hail/Freezing Rain', 'Blowing Sand/Dirt', 'Severe Crosswind', 'Partly Cloudy'\n",
    "##### \"ROADCOND\",\n",
    "'Wet', 'Dry', nan, 'Unknown', 'Snow/Slush', 'Ice', 'Other', 'Sand/Mud/Dirt', 'Standing Water', 'Oil'\n",
    "##### \\\"LIGHTCOND\\\"\\n\",\n",
    "'Daylight', 'Dark - Street Lights On', 'Dark - No Street Lights', nan, 'Unknown', 'Dusk', 'Dawn', 'Dark - Street Lights Off', 'Other', 'Dark - Unknown Lighting'\n",
    "5. This classification of the data can give a better analysis which then can be used to advise the local population.\""
   ]
  },
  {
   "cell_type": "code",
   "execution_count": null,
   "metadata": {},
   "outputs": [],
   "source": []
  }
 ],
 "metadata": {
  "kernelspec": {
   "display_name": "Python 3",
   "language": "python",
   "name": "python3"
  },
  "language_info": {
   "codemirror_mode": {
    "name": "ipython",
    "version": 3
   },
   "file_extension": ".py",
   "mimetype": "text/x-python",
   "name": "python",
   "nbconvert_exporter": "python",
   "pygments_lexer": "ipython3",
   "version": "3.7.4"
  }
 },
 "nbformat": 4,
 "nbformat_minor": 2
}
